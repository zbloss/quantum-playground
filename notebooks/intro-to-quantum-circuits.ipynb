{
 "cells": [
  {
   "cell_type": "code",
   "execution_count": 1,
   "metadata": {},
   "outputs": [],
   "source": [
    "import qiskit as q"
   ]
  },
  {
   "cell_type": "code",
   "execution_count": 4,
   "metadata": {},
   "outputs": [
    {
     "data": {
      "text/plain": [
       "<qiskit.circuit.instructionset.InstructionSet at 0x24220e8f388>"
      ]
     },
     "execution_count": 4,
     "metadata": {},
     "output_type": "execute_result"
    }
   ],
   "source": [
    "circuit = q.QuantumCircuit(2, 2)  # creating a circuit with 2 qubits & 2 classical bits\n",
    "\n",
    "# in qiskit, x serves as a not-gate, meaning it flips the value.\n",
    "# here we pass a 0 as the starting value, so now it is 1.\n",
    "circuit.x(0)  \n",
    "\n",
    "# cx is a cnot, or controlled not, which flips the 2nd qubit's value \n",
    "# if the first qubit is 1\n",
    "circuit.cx(0, 1)\n",
    "\n",
    "# now we need to measure, basically q-compile, the registers\n",
    "# this converts our qubits back into classical bits.\n",
    "# ([qbitregister], [classicalbitregister])\n",
    "circuit.measure([0,1], [0,1])"
   ]
  },
  {
   "cell_type": "code",
   "execution_count": 28,
   "metadata": {},
   "outputs": [
    {
     "data": {
      "image/png": "[encoded data removed]",
      "text/plain": [
       "<Figure size 418.992x204.68 with 1 Axes>"
      ]
     },
     "execution_count": 28,
     "metadata": {},
     "output_type": "execute_result"
    }
   ],
   "source": [
    "# here you can see the q-circuit that we built in the form of a graph.\n",
    "circuit.draw(output='mpl')"
   ]
  },
  {
   "cell_type": "code",
   "execution_count": 16,
   "metadata": {},
   "outputs": [],
   "source": [
    "with open('../ibm_creds', 'r') as file:\n",
    "    creds = file.read()\n",
    "    creds = creds.replace('\\n', '')\n",
    "    file.close()"
   ]
  },
  {
   "cell_type": "code",
   "execution_count": 17,
   "metadata": {},
   "outputs": [],
   "source": [
    "q.IBMQ.save_account(creds)"
   ]
  },
  {
   "cell_type": "code",
   "execution_count": 18,
   "metadata": {},
   "outputs": [
    {
     "data": {
      "text/plain": [
       "<AccountProvider for IBMQ(hub='ibm-q', group='open', project='main')>"
      ]
     },
     "execution_count": 18,
     "metadata": {},
     "output_type": "execute_result"
    }
   ],
   "source": [
    "q.IBMQ.load_account()"
   ]
  },
  {
   "cell_type": "code",
   "execution_count": 19,
   "metadata": {},
   "outputs": [
    {
     "data": {
      "text/plain": [
       "[<AccountProvider for IBMQ(hub='ibm-q', group='open', project='main')>]"
      ]
     },
     "execution_count": 19,
     "metadata": {},
     "output_type": "execute_result"
    }
   ],
   "source": [
    "q.IBMQ.providers()"
   ]
  },
  {
   "cell_type": "code",
   "execution_count": 20,
   "metadata": {},
   "outputs": [],
   "source": [
    "provider = q.IBMQ.get_provider('ibm-q')"
   ]
  },
  {
   "cell_type": "code",
   "execution_count": 23,
   "metadata": {},
   "outputs": [
    {
     "name": "stdout",
     "output_type": "stream",
     "text": [
      "ibmq_qasm_simulator has 0 queued and simulated qubits\n",
      "ibmqx2 has 8 queued and 5 qubits\n",
      "ibmq_16_melbourne has 2 queued and 15 qubits\n",
      "ibmq_vigo has 1 queued and 5 qubits\n",
      "ibmq_ourense has 10 queued and 5 qubits\n",
      "ibmq_london has 5 queued and 5 qubits\n",
      "ibmq_burlington has 5 queued and 5 qubits\n",
      "ibmq_essex has 6 queued and 5 qubits\n",
      "ibmq_armonk has 0 queued and 1 qubits\n"
     ]
    }
   ],
   "source": [
    "for backend in provider.backends():\n",
    "    try:\n",
    "        qubit_count = len(backend.properties().qubits)\n",
    "    except:\n",
    "        qubit_count = 'simulated'\n",
    "        \n",
    "    print(f'{backend.name()} has {backend.status().pending_jobs} queued and {qubit_count} qubits')"
   ]
  },
  {
   "cell_type": "code",
   "execution_count": 24,
   "metadata": {},
   "outputs": [],
   "source": [
    "from qiskit.visualization import plot_histogram\n",
    "from qiskit.tools.monitor import job_monitor"
   ]
  },
  {
   "cell_type": "code",
   "execution_count": 25,
   "metadata": {},
   "outputs": [
    {
     "name": "stdout",
     "output_type": "stream",
     "text": [
      "Job Status: job has successfully run\n"
     ]
    }
   ],
   "source": [
    "backend = provider.get_backend('ibmq_16_melbourne')\n",
    "job = q.execute(circuit, backend=backend, shots=500)\n",
    "job_monitor(job)"
   ]
  },
  {
   "cell_type": "code",
   "execution_count": 26,
   "metadata": {},
   "outputs": [],
   "source": [
    "result = job.result()\n",
    "counts = result.get_counts(circuit)"
   ]
  },
  {
   "cell_type": "code",
   "execution_count": 27,
   "metadata": {},
   "outputs": [
    {
     "data": {
      "image/png": "[encoded data removed]",
      "text/plain": [
       "<Figure size 504x360 with 1 Axes>"
      ]
     },
     "execution_count": 27,
     "metadata": {},
     "output_type": "execute_result"
    }
   ],
   "source": [
    "plot_histogram([counts], legend=['Device'])"
   ]
  },
  {
   "cell_type": "markdown",
   "metadata": {},
   "source": [
    "## Making this harder\n",
    "utilizing superposition"
   ]
  },
  {
   "cell_type": "code",
   "execution_count": 29,
   "metadata": {},
   "outputs": [
    {
     "data": {
      "text/plain": [
       "<qiskit.circuit.instructionset.InstructionSet at 0x2422707f508>"
      ]
     },
     "execution_count": 29,
     "metadata": {},
     "output_type": "execute_result"
    }
   ],
   "source": [
    "circuit = q.QuantumCircuit(2,2)\n",
    "\n",
    "# adding a Hadamard gate, which puts qubit 0 into superposition\n",
    "circuit.h(0)\n",
    "\n",
    "# cnot gate, which flips the second qubits value if the first qubit is 1\n",
    "circuit.cx(0, 1)\n",
    "\n",
    "circuit.measure([0,1], [0,1])"
   ]
  },
  {
   "cell_type": "code",
   "execution_count": 30,
   "metadata": {},
   "outputs": [
    {
     "data": {
      "image/png": "[encoded data removed]",
      "text/plain": [
       "<Figure size 418.992x204.68 with 1 Axes>"
      ]
     },
     "execution_count": 30,
     "metadata": {},
     "output_type": "execute_result"
    }
   ],
   "source": [
    "circuit.draw(output='mpl')"
   ]
  },
  {
   "cell_type": "code",
   "execution_count": 31,
   "metadata": {},
   "outputs": [
    {
     "name": "stdout",
     "output_type": "stream",
     "text": [
      "Job Status: job has successfully run\n"
     ]
    }
   ],
   "source": [
    "backend = provider.get_backend('ibmq_16_melbourne')\n",
    "job = q.execute(circuit, backend=backend, shots=500)\n",
    "job_monitor(job)"
   ]
  },
  {
   "cell_type": "code",
   "execution_count": 32,
   "metadata": {},
   "outputs": [
    {
     "data": {
      "image/png": "[encoded data removed]",
      "text/plain": [
       "<Figure size 504x360 with 1 Axes>"
      ]
     },
     "execution_count": 32,
     "metadata": {},
     "output_type": "execute_result"
    }
   ],
   "source": [
    "result = job.result()\n",
    "counts = result.get_counts(circuit)\n",
    "plot_histogram([counts], legend=['Device'])"
   ]
  },
  {
   "cell_type": "markdown",
   "metadata": {},
   "source": [
    "## Aer, the quantum simulator\n",
    "\n",
    "Using Aer allows us to use a quantum simulator without bogging down IBMs systems|"
   ]
  },
  {
   "cell_type": "code",
   "execution_count": 33,
   "metadata": {},
   "outputs": [
    {
     "name": "stdout",
     "output_type": "stream",
     "text": [
      "qasm_simulator\n",
      "statevector_simulator\n",
      "unitary_simulator\n",
      "pulse_simulator\n"
     ]
    }
   ],
   "source": [
    "from qiskit import Aer\n",
    "\n",
    "for backend in Aer.backends():\n",
    "    print(backend)"
   ]
  },
  {
   "cell_type": "markdown",
   "metadata": {},
   "source": [
    "`QasmSimulator`: Allows ideal and noisy multi-shot execution of qiskit circuits and returns counts or memory\n",
    "\n",
    "`StatevectorSimulator`: Allows ideal single-shot execution of qiskit circuits and returns the final statevector of the simulator after application\n",
    "\n",
    "`UnitarySimulator`: Allows ideal single-shot execution of qiskit circuits and returns the final unitary matrix of the circuit itself. Note that the circuit cannot contain measure or reset operations for this backend\n",
    "\n",
    "`PulseSimulator`: ?\n",
    "\n",
    "These simulators only simulate a perfect quantum environment. Below we rerun the prior job and only get `00` and `11` results"
   ]
  },
  {
   "cell_type": "code",
   "execution_count": 42,
   "metadata": {},
   "outputs": [
    {
     "name": "stdout",
     "output_type": "stream",
     "text": [
      "Job Status: job has successfully run\n"
     ]
    }
   ],
   "source": [
    "sim_backend = Aer.get_backend('qasm_simulator')\n",
    "job = q.execute(circuit, backend=sim_backend, shots=10000)\n",
    "job_monitor(job)"
   ]
  },
  {
   "cell_type": "code",
   "execution_count": 43,
   "metadata": {},
   "outputs": [
    {
     "data": {
      "image/png": "[encoded data removed]",
      "text/plain": [
       "<Figure size 504x360 with 1 Axes>"
      ]
     },
     "execution_count": 43,
     "metadata": {},
     "output_type": "execute_result"
    }
   ],
   "source": [
    "result = job.result()\n",
    "counts = result.get_counts(circuit)\n",
    "plot_histogram([counts], legend=['Device'])"
   ]
  },
  {
   "cell_type": "code",
   "execution_count": null,
   "metadata": {},
   "outputs": [],
   "source": []
  }
 ],
 "metadata": {
  "kernelspec": {
   "display_name": "Python 3",
   "language": "python",
   "name": "python3"
  },
  "language_info": {
   "codemirror_mode": {
    "name": "ipython",
    "version": 3
   },
   "file_extension": ".py",
   "mimetype": "text/x-python",
   "name": "python",
   "nbconvert_exporter": "python",
   "pygments_lexer": "ipython3",
   "version": "3.7.6"
  }
 },
 "nbformat": 4,
 "nbformat_minor": 4
}
